{
 "cells": [
  {
   "cell_type": "code",
   "execution_count": 2,
   "metadata": {},
   "outputs": [
    {
     "name": "stdout",
     "output_type": "stream",
     "text": [
      "['/home/sz/pa2023/test', '/usr/local/lib/python310.zip', '/usr/local/lib/python3.10', '/usr/local/lib/python3.10/lib-dynload', '', '/home/sz/pa2023/venv/lib/python3.10/site-packages', '/home/sz/pa2023/']\n"
     ]
    }
   ],
   "source": [
    "import sys\n",
    "# print(sys.path)\n",
    "sys.path.append('/home/sz/pa2023/')\n",
    "print(sys.path)"
   ]
  },
  {
   "cell_type": "code",
   "execution_count": null,
   "metadata": {},
   "outputs": [],
   "source": [
    "from langchain.tools.file_management.write import WriteFileTool\n",
    "from langchain.tools.file_management.read import ReadFileTool\n",
    "from dotenv import load_dotenv\n",
    "load_dotenv()\n",
    "from module.tools import tools_faiss_azure_googleserp\n",
    "_tools = tools_faiss_azure_googleserp\n",
    "_tools.append(WriteFileTool())\n",
    "_tools.append(ReadFileTool())\n",
    "from langchain.vectorstores import FAISS\n",
    "from langchain.docstore import InMemoryDocstore\n",
    "from langchain.embeddings import OpenAIEmbeddings\n",
    "embeddings_model = OpenAIEmbeddings()\n",
    "import faiss\n",
    "embedding_size = 1536\n",
    "index = faiss.IndexFlatL2(embedding_size)\n",
    "_vectorstore = FAISS(embeddings_model.embed_query, index, InMemoryDocstore   ({}), {})\n",
    "from langchain.experimental import AutoGPT\n",
    "from langchain.chat_models import ChatOpenAI\n",
    "from langchain.memory.chat_message_histories import FileChatMessageHistory\n",
    "_llm = ChatOpenAI(temperature=0)\n",
    "\n",
    "from langchain.callbacks import get_openai_callback\n",
    "with get_openai_callback() as cb:\n",
    "    _agent = AutoGPT.from_llm_and_tools(\n",
    "        ai_name=\"Zack\",\n",
    "        ai_role=\"Assistant\",\n",
    "        tools=_tools,\n",
    "        llm=_llm,\n",
    "        memory=_vectorstore.as_retriever(),\n",
    "        chat_history_memory=FileChatMessageHistory(\"chat_history.txt\"),\n",
    "    )\n",
    "    _agent.chain.verbose = True\n",
    "    _task = \"Write a weather report for SF today\"\n",
    "    _re = _agent.run([_task])\n",
    "    _token_cost = f\"Tokens: {cb.total_tokens} = (Prompt {cb.prompt_tokens} + Completion {cb.completion_tokens}) Cost: ${format(cb.total_cost, '.5f')}\"\n",
    "    print(_token_cost)\n",
    "    print(_re)"
   ]
  }
 ],
 "metadata": {
  "kernelspec": {
   "display_name": "venv",
   "language": "python",
   "name": "python3"
  },
  "language_info": {
   "codemirror_mode": {
    "name": "ipython",
    "version": 3
   },
   "file_extension": ".py",
   "mimetype": "text/x-python",
   "name": "python",
   "nbconvert_exporter": "python",
   "pygments_lexer": "ipython3",
   "version": "3.10.6"
  },
  "orig_nbformat": 4
 },
 "nbformat": 4,
 "nbformat_minor": 2
}
